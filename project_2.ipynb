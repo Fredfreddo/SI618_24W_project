{
 "cells": [
  {
   "cell_type": "markdown",
   "metadata": {},
   "source": [
    "# SI618 Project Part 2: Analysis"
   ]
  },
  {
   "cell_type": "markdown",
   "metadata": {},
   "source": [
    "# Project Title — *World of Board Games: What decide their popularity and ratings?*"
   ]
  },
  {
   "cell_type": "markdown",
   "metadata": {},
   "source": [
    "## Team Members\n",
    "- Keqing Lu (keqinglu)\n",
    "- Xiyuan Wang (denniswx)\n",
    "- Fangqing Yuan (fangqing)"
   ]
  },
  {
   "cell_type": "markdown",
   "metadata": {},
   "source": [
    "# Table of Contents\n",
    "* [Descriptive Statistics](#Descriptive_Statistics)\n",
    "    * [Section 1.1](#section_1_1)\n",
    "* [Chapter 2](#chapter2)\n",
    "    * [Section 2.1](#section_2_1)\n",
    "        * [Sub Section 2.1.1](#sub_section_2_1_1)\n",
    "        * [Sub Section 2.1.2](#sub_section_2_1_2)\n",
    "* [Chapter 3](#chapter3)\n",
    "    * [Section 3.1](#section_3_1)\n",
    "        * [Sub Section 3.1.1](#sub_section_3_1_1)\n",
    "        * [Sub Section 3.1.2](#sub_section_3_1_2)\n",
    "    * [Section 3.2](#section_3_2)\n",
    "        * [Sub Section 3.2.1](#sub_section_3_2_1)"
   ]
  },
  {
   "cell_type": "code",
   "execution_count": 2,
   "metadata": {},
   "outputs": [],
   "source": [
    "# import necessary libraries\n",
    "import pandas as pd\n",
    "import numpy as np\n",
    "import matplotlib.pyplot as plt\n",
    "import seaborn as sns"
   ]
  },
  {
   "cell_type": "code",
   "execution_count": 3,
   "metadata": {},
   "outputs": [],
   "source": [
    "# import processed data from project 1\n",
    "ready_data = pd.read_csv('board_games.csv')"
   ]
  },
  {
   "cell_type": "code",
   "execution_count": 4,
   "metadata": {},
   "outputs": [
    {
     "data": {
      "text/html": [
       "<div>\n",
       "<style scoped>\n",
       "    .dataframe tbody tr th:only-of-type {\n",
       "        vertical-align: middle;\n",
       "    }\n",
       "\n",
       "    .dataframe tbody tr th {\n",
       "        vertical-align: top;\n",
       "    }\n",
       "\n",
       "    .dataframe thead th {\n",
       "        text-align: right;\n",
       "    }\n",
       "</style>\n",
       "<table border=\"1\" class=\"dataframe\">\n",
       "  <thead>\n",
       "    <tr style=\"text-align: right;\">\n",
       "      <th></th>\n",
       "      <th>num_x</th>\n",
       "      <th>id</th>\n",
       "      <th>name</th>\n",
       "      <th>year</th>\n",
       "      <th>rank</th>\n",
       "      <th>average</th>\n",
       "      <th>bayes_average</th>\n",
       "      <th>users_rated</th>\n",
       "      <th>url</th>\n",
       "      <th>thumbnail</th>\n",
       "      <th>...</th>\n",
       "      <th>designer_list</th>\n",
       "      <th>publisher_list</th>\n",
       "      <th>category_count</th>\n",
       "      <th>family_count</th>\n",
       "      <th>mechanic_count</th>\n",
       "      <th>expansion_count</th>\n",
       "      <th>implementation_count</th>\n",
       "      <th>designer_count</th>\n",
       "      <th>publisher_count</th>\n",
       "      <th>artist_count</th>\n",
       "    </tr>\n",
       "  </thead>\n",
       "  <tbody>\n",
       "    <tr>\n",
       "      <th>0</th>\n",
       "      <td>105</td>\n",
       "      <td>30549</td>\n",
       "      <td>Pandemic</td>\n",
       "      <td>2008</td>\n",
       "      <td>106</td>\n",
       "      <td>7.59</td>\n",
       "      <td>7.487</td>\n",
       "      <td>108975</td>\n",
       "      <td>/boardgame/30549/pandemic</td>\n",
       "      <td>https://cf.geekdo-images.com/S3ybV1LAp-8SnHIXL...</td>\n",
       "      <td>...</td>\n",
       "      <td>['Matt Leacock']</td>\n",
       "      <td>['Z-Man Games', 'Albi', 'Asmodee', 'Asmodee It...</td>\n",
       "      <td>1</td>\n",
       "      <td>9</td>\n",
       "      <td>7</td>\n",
       "      <td>7</td>\n",
       "      <td>11</td>\n",
       "      <td>1</td>\n",
       "      <td>33</td>\n",
       "      <td>5</td>\n",
       "    </tr>\n",
       "    <tr>\n",
       "      <th>1</th>\n",
       "      <td>189</td>\n",
       "      <td>822</td>\n",
       "      <td>Carcassonne</td>\n",
       "      <td>2000</td>\n",
       "      <td>190</td>\n",
       "      <td>7.42</td>\n",
       "      <td>7.309</td>\n",
       "      <td>108738</td>\n",
       "      <td>/boardgame/822/carcassonne</td>\n",
       "      <td>https://cf.geekdo-images.com/okM0dq_bEXnbyQTOv...</td>\n",
       "      <td>...</td>\n",
       "      <td>['Klaus-Jürgen Wrede']</td>\n",
       "      <td>['Hans im Glück', '999 Games', 'Albi', 'Bard C...</td>\n",
       "      <td>3</td>\n",
       "      <td>11</td>\n",
       "      <td>3</td>\n",
       "      <td>155</td>\n",
       "      <td>17</td>\n",
       "      <td>1</td>\n",
       "      <td>35</td>\n",
       "      <td>4</td>\n",
       "    </tr>\n",
       "    <tr>\n",
       "      <th>2</th>\n",
       "      <td>428</td>\n",
       "      <td>13</td>\n",
       "      <td>Catan</td>\n",
       "      <td>1995</td>\n",
       "      <td>429</td>\n",
       "      <td>7.14</td>\n",
       "      <td>6.970</td>\n",
       "      <td>108024</td>\n",
       "      <td>/boardgame/13/catan</td>\n",
       "      <td>https://cf.geekdo-images.com/W3Bsga_uLP9kO91gZ...</td>\n",
       "      <td>...</td>\n",
       "      <td>['Klaus Teuber']</td>\n",
       "      <td>['KOSMOS', '999 Games', 'Albi', 'Asmodee', 'As...</td>\n",
       "      <td>2</td>\n",
       "      <td>5</td>\n",
       "      <td>9</td>\n",
       "      <td>87</td>\n",
       "      <td>29</td>\n",
       "      <td>1</td>\n",
       "      <td>48</td>\n",
       "      <td>11</td>\n",
       "    </tr>\n",
       "    <tr>\n",
       "      <th>3</th>\n",
       "      <td>72</td>\n",
       "      <td>68448</td>\n",
       "      <td>7 Wonders</td>\n",
       "      <td>2010</td>\n",
       "      <td>73</td>\n",
       "      <td>7.74</td>\n",
       "      <td>7.634</td>\n",
       "      <td>89982</td>\n",
       "      <td>/boardgame/68448/7-wonders</td>\n",
       "      <td>https://cf.geekdo-images.com/RvFVTEpnbb4NM7k0I...</td>\n",
       "      <td>...</td>\n",
       "      <td>['Antoine Bauza']</td>\n",
       "      <td>['Repos Production', 'ADC Blackfire Entertainm...</td>\n",
       "      <td>5</td>\n",
       "      <td>7</td>\n",
       "      <td>5</td>\n",
       "      <td>16</td>\n",
       "      <td>3</td>\n",
       "      <td>1</td>\n",
       "      <td>14</td>\n",
       "      <td>4</td>\n",
       "    </tr>\n",
       "    <tr>\n",
       "      <th>4</th>\n",
       "      <td>103</td>\n",
       "      <td>36218</td>\n",
       "      <td>Dominion</td>\n",
       "      <td>2008</td>\n",
       "      <td>104</td>\n",
       "      <td>7.61</td>\n",
       "      <td>7.499</td>\n",
       "      <td>81561</td>\n",
       "      <td>/boardgame/36218/dominion</td>\n",
       "      <td>https://cf.geekdo-images.com/j6iQpZ4XkemZP07HN...</td>\n",
       "      <td>...</td>\n",
       "      <td>['Donald X. Vaccarino']</td>\n",
       "      <td>['Rio Grande Games', '999 Games', 'Albi', 'Bar...</td>\n",
       "      <td>2</td>\n",
       "      <td>3</td>\n",
       "      <td>5</td>\n",
       "      <td>46</td>\n",
       "      <td>2</td>\n",
       "      <td>1</td>\n",
       "      <td>23</td>\n",
       "      <td>9</td>\n",
       "    </tr>\n",
       "  </tbody>\n",
       "</table>\n",
       "<p>5 rows × 40 columns</p>\n",
       "</div>"
      ],
      "text/plain": [
       "   num_x     id         name  year  rank  average  bayes_average  users_rated  \\\n",
       "0    105  30549     Pandemic  2008   106     7.59          7.487       108975   \n",
       "1    189    822  Carcassonne  2000   190     7.42          7.309       108738   \n",
       "2    428     13        Catan  1995   429     7.14          6.970       108024   \n",
       "3     72  68448    7 Wonders  2010    73     7.74          7.634        89982   \n",
       "4    103  36218     Dominion  2008   104     7.61          7.499        81561   \n",
       "\n",
       "                          url  \\\n",
       "0   /boardgame/30549/pandemic   \n",
       "1  /boardgame/822/carcassonne   \n",
       "2         /boardgame/13/catan   \n",
       "3  /boardgame/68448/7-wonders   \n",
       "4   /boardgame/36218/dominion   \n",
       "\n",
       "                                           thumbnail  ...  \\\n",
       "0  https://cf.geekdo-images.com/S3ybV1LAp-8SnHIXL...  ...   \n",
       "1  https://cf.geekdo-images.com/okM0dq_bEXnbyQTOv...  ...   \n",
       "2  https://cf.geekdo-images.com/W3Bsga_uLP9kO91gZ...  ...   \n",
       "3  https://cf.geekdo-images.com/RvFVTEpnbb4NM7k0I...  ...   \n",
       "4  https://cf.geekdo-images.com/j6iQpZ4XkemZP07HN...  ...   \n",
       "\n",
       "             designer_list                                     publisher_list  \\\n",
       "0         ['Matt Leacock']  ['Z-Man Games', 'Albi', 'Asmodee', 'Asmodee It...   \n",
       "1   ['Klaus-Jürgen Wrede']  ['Hans im Glück', '999 Games', 'Albi', 'Bard C...   \n",
       "2         ['Klaus Teuber']  ['KOSMOS', '999 Games', 'Albi', 'Asmodee', 'As...   \n",
       "3        ['Antoine Bauza']  ['Repos Production', 'ADC Blackfire Entertainm...   \n",
       "4  ['Donald X. Vaccarino']  ['Rio Grande Games', '999 Games', 'Albi', 'Bar...   \n",
       "\n",
       "  category_count  family_count  mechanic_count  expansion_count  \\\n",
       "0              1             9               7                7   \n",
       "1              3            11               3              155   \n",
       "2              2             5               9               87   \n",
       "3              5             7               5               16   \n",
       "4              2             3               5               46   \n",
       "\n",
       "   implementation_count  designer_count  publisher_count  artist_count  \n",
       "0                    11               1               33             5  \n",
       "1                    17               1               35             4  \n",
       "2                    29               1               48            11  \n",
       "3                     3               1               14             4  \n",
       "4                     2               1               23             9  \n",
       "\n",
       "[5 rows x 40 columns]"
      ]
     },
     "execution_count": 4,
     "metadata": {},
     "output_type": "execute_result"
    }
   ],
   "source": [
    "ready_data.head() # check the first few rows of the data"
   ]
  },
  {
   "cell_type": "markdown",
   "metadata": {},
   "source": [
    "## Descriptive Statistics <a id=\"Descriptive_Statistics\"></a>"
   ]
  },
  {
   "cell_type": "markdown",
   "metadata": {},
   "source": [
    "After the preliminary data manipulation, we have the following fields of data:"
   ]
  },
  {
   "cell_type": "code",
   "execution_count": 5,
   "metadata": {},
   "outputs": [
    {
     "data": {
      "text/plain": [
       "Index(['num_x', 'id', 'name', 'year', 'rank', 'average', 'bayes_average',\n",
       "       'users_rated', 'url', 'thumbnail', 'num_y', 'primary', 'description',\n",
       "       'yearpublished', 'minplayers', 'maxplayers', 'playingtime',\n",
       "       'minplaytime', 'maxplaytime', 'minage', 'owned', 'trading', 'wanting',\n",
       "       'wishing', 'category_list', 'mechanic_list', 'family_list',\n",
       "       'expansion_list', 'implementation_list', 'artist_list', 'designer_list',\n",
       "       'publisher_list', 'category_count', 'family_count', 'mechanic_count',\n",
       "       'expansion_count', 'implementation_count', 'designer_count',\n",
       "       'publisher_count', 'artist_count'],\n",
       "      dtype='object')"
      ]
     },
     "execution_count": 5,
     "metadata": {},
     "output_type": "execute_result"
    }
   ],
   "source": [
    "ready_data.columns"
   ]
  },
  {
   "cell_type": "markdown",
   "metadata": {},
   "source": [
    "For the purpose of our analysis, which investigates the factors making the games popular and/or highly rated, we are mainly interested in the following data: rating of the games, described by `average` (including `bayes_average`); popularity of the games, described by `owned`, `trading`, `wanting`, `wishing` and `users_rated`; the numerical factors of the games, including `yearpublished`, player number `minplayers` and `maxplayers`, `playingtime` including `minplaytime` and `maxplaytime`, `minage`; and the categorical factors including game category, game mechanics, game family etc., and their counts for each game."
   ]
  },
  {
   "cell_type": "markdown",
   "metadata": {},
   "source": [
    "### Rating of the games"
   ]
  },
  {
   "cell_type": "code",
   "execution_count": 6,
   "metadata": {},
   "outputs": [
    {
     "data": {
      "text/plain": [
       "count    21631.000000\n",
       "mean         6.417249\n",
       "std          0.929345\n",
       "min          1.040000\n",
       "25%          5.830000\n",
       "50%          6.450000\n",
       "75%          7.040000\n",
       "max          9.570000\n",
       "Name: average, dtype: float64"
      ]
     },
     "execution_count": 6,
     "metadata": {},
     "output_type": "execute_result"
    }
   ],
   "source": [
    "ready_data.average.describe()"
   ]
  },
  {
   "cell_type": "code",
   "execution_count": 7,
   "metadata": {},
   "outputs": [
    {
     "data": {
      "text/plain": [
       "count    21631.000000\n",
       "mean         5.683664\n",
       "std          0.366096\n",
       "min          0.000000\n",
       "25%          5.510000\n",
       "50%          5.546000\n",
       "75%          5.678000\n",
       "max          8.511000\n",
       "Name: bayes_average, dtype: float64"
      ]
     },
     "execution_count": 7,
     "metadata": {},
     "output_type": "execute_result"
    }
   ],
   "source": [
    "ready_data.bayes_average.describe()"
   ]
  },
  {
   "cell_type": "markdown",
   "metadata": {},
   "source": [
    "Here we can see that the `bayes_average` is overall lower, and has a smaller standard deviation (i.e. more closely packed for the games) compared with `average`."
   ]
  },
  {
   "cell_type": "markdown",
   "metadata": {},
   "source": [
    "### Popularity of the games"
   ]
  },
  {
   "cell_type": "markdown",
   "metadata": {},
   "source": [
    "#### Game ownership"
   ]
  },
  {
   "cell_type": "code",
   "execution_count": 8,
   "metadata": {},
   "outputs": [
    {
     "data": {
      "text/plain": [
       "count     21631.000000\n",
       "mean       1487.924553\n",
       "std        5395.077773\n",
       "min           0.000000\n",
       "25%         150.000000\n",
       "50%         322.000000\n",
       "75%         903.500000\n",
       "max      168364.000000\n",
       "Name: owned, dtype: float64"
      ]
     },
     "execution_count": 8,
     "metadata": {},
     "output_type": "execute_result"
    }
   ],
   "source": [
    "ready_data.owned.describe()"
   ]
  },
  {
   "cell_type": "markdown",
   "metadata": {},
   "source": [
    "We can see that the median number of owners for a game is just around 300, while there are games owned by hundreds of thousands, which significantly raise the mean value."
   ]
  },
  {
   "cell_type": "markdown",
   "metadata": {},
   "source": [
    "#### Player desire and game trading"
   ]
  },
  {
   "cell_type": "code",
   "execution_count": 9,
   "metadata": {},
   "outputs": [
    {
     "data": {
      "text/plain": [
       "count    21631.000000\n",
       "mean        43.585965\n",
       "std        102.410851\n",
       "min          0.000000\n",
       "25%          5.000000\n",
       "50%         13.000000\n",
       "75%         38.000000\n",
       "max       2508.000000\n",
       "Name: trading, dtype: float64"
      ]
     },
     "execution_count": 9,
     "metadata": {},
     "output_type": "execute_result"
    }
   ],
   "source": [
    "ready_data.trading.describe()"
   ]
  },
  {
   "cell_type": "code",
   "execution_count": 10,
   "metadata": {},
   "outputs": [
    {
     "data": {
      "text/plain": [
       "count    21631.000000\n",
       "mean        42.030373\n",
       "std        117.940355\n",
       "min          0.000000\n",
       "25%          3.000000\n",
       "50%          9.000000\n",
       "75%         29.000000\n",
       "max       2011.000000\n",
       "Name: wanting, dtype: float64"
      ]
     },
     "execution_count": 10,
     "metadata": {},
     "output_type": "execute_result"
    }
   ],
   "source": [
    "ready_data.wanting.describe()"
   ]
  },
  {
   "cell_type": "code",
   "execution_count": 11,
   "metadata": {},
   "outputs": [
    {
     "data": {
      "text/plain": [
       "count    21631.000000\n",
       "mean       233.655587\n",
       "std        800.657809\n",
       "min          0.000000\n",
       "25%         14.000000\n",
       "50%         39.000000\n",
       "75%        131.000000\n",
       "max      19325.000000\n",
       "Name: wishing, dtype: float64"
      ]
     },
     "execution_count": 11,
     "metadata": {},
     "output_type": "execute_result"
    }
   ],
   "source": [
    "ready_data.wishing.describe()"
   ]
  },
  {
   "cell_type": "markdown",
   "metadata": {},
   "source": [
    "We can see for most games, there are a number of players \"wishing\" to have the game. A smaller portion of them are \"wanting\" the game, which may mean a stronger intention level of buying. Some copies of the game are currently being traded."
   ]
  },
  {
   "cell_type": "markdown",
   "metadata": {},
   "source": [
    "#### Number of players rated"
   ]
  },
  {
   "cell_type": "code",
   "execution_count": 12,
   "metadata": {},
   "outputs": [
    {
     "data": {
      "text/plain": [
       "count     21631.000000\n",
       "mean        874.548518\n",
       "std        3695.946026\n",
       "min          30.000000\n",
       "25%          57.000000\n",
       "50%         124.000000\n",
       "75%         397.000000\n",
       "max      108975.000000\n",
       "Name: users_rated, dtype: float64"
      ]
     },
     "execution_count": 12,
     "metadata": {},
     "output_type": "execute_result"
    }
   ],
   "source": [
    "ready_data.users_rated.describe()"
   ]
  },
  {
   "cell_type": "markdown",
   "metadata": {},
   "source": [
    "Overall, the `user_rated` number is lower than `owned`, which means not every player who owns a game has rated it. Meanwhile, there exist games that are do not have current owners, but still have rating records."
   ]
  },
  {
   "cell_type": "markdown",
   "metadata": {},
   "source": [
    "### Numerical factors of the games"
   ]
  },
  {
   "cell_type": "markdown",
   "metadata": {},
   "source": [
    "#### Year published"
   ]
  },
  {
   "cell_type": "code",
   "execution_count": 13,
   "metadata": {},
   "outputs": [
    {
     "data": {
      "text/plain": [
       "count    21631.000000\n",
       "mean      1986.094910\n",
       "std        210.042496\n",
       "min      -3500.000000\n",
       "25%       2001.000000\n",
       "50%       2011.000000\n",
       "75%       2017.000000\n",
       "max       2023.000000\n",
       "Name: yearpublished, dtype: float64"
      ]
     },
     "execution_count": 13,
     "metadata": {},
     "output_type": "execute_result"
    }
   ],
   "source": [
    "ready_data.yearpublished.describe()"
   ]
  },
  {
   "cell_type": "markdown",
   "metadata": {},
   "source": [
    "We can see that most games are published within the 21st century. Meanwhile, there are some very ancient games, which lowers the mean value."
   ]
  },
  {
   "cell_type": "code",
   "execution_count": 14,
   "metadata": {},
   "outputs": [
    {
     "data": {
      "text/plain": [
       "3622    Senet is an ancient Egyptian board game similar to backgammon.  Each player has 5 pawns which travel around a 3 by 10 board in an S shaped path.  Movement is dictated by the throw of 4 sticks (black on one side and white on the other) which can produce a 1,2,3,4, or 6, (5 is not possible) depending on how they land..  As in backgammon, the objective is to bear all of one's pawns off first.  A couple of interesting differences is that there are safe and trap spaces on the board.  Also, players may block each others' progress as in Parchisi.  Senet sets are usually constructed from various woods and are often quite beautiful.  Senet is one of the oldest boardgames but unfortunately it fell out of use for a few thousand years and no ancient rules set has been discovered.  Undoubtably another tragic loss resulting from the Library of Alexandria burning to the ground.  As a result scholars has made several educated guesses as to the rules.  The most popular versions are in the files section.&#10;&#10;It may be a relative of Aseb and The Royal Game of Ur.&#10;&#10;\n",
       "Name: description, dtype: object"
      ]
     },
     "execution_count": 14,
     "metadata": {},
     "output_type": "execute_result"
    }
   ],
   "source": [
    "pd.set_option('display.max_colwidth', None)\n",
    "ready_data[ready_data.yearpublished == -3500].description"
   ]
  },
  {
   "cell_type": "markdown",
   "metadata": {},
   "source": [
    "For example, the most ancient game is \"Senet\", which dates back to Ancient Egypt."
   ]
  },
  {
   "cell_type": "code",
   "execution_count": 15,
   "metadata": {},
   "outputs": [
    {
     "data": {
      "text/plain": [
       "yearpublished\n",
       "2017    1325\n",
       "2018    1321\n",
       "2016    1291\n",
       "2019    1258\n",
       "2015    1147\n",
       "2014    1007\n",
       "2020     897\n",
       "2013     862\n",
       "2012     831\n",
       "2011     741\n",
       "Name: count, dtype: int64"
      ]
     },
     "execution_count": 15,
     "metadata": {},
     "output_type": "execute_result"
    }
   ],
   "source": [
    "ready_data.yearpublished.value_counts().head(10)"
   ]
  },
  {
   "cell_type": "markdown",
   "metadata": {},
   "source": [
    "The year with most games published is 2017, while the top 10 years constitute the entire 2010s."
   ]
  },
  {
   "cell_type": "markdown",
   "metadata": {},
   "source": [
    "#### Player number"
   ]
  },
  {
   "cell_type": "code",
   "execution_count": 16,
   "metadata": {},
   "outputs": [
    {
     "data": {
      "text/plain": [
       "count    21631.000000\n",
       "mean         2.007027\n",
       "std          0.688957\n",
       "min          0.000000\n",
       "25%          2.000000\n",
       "50%          2.000000\n",
       "75%          2.000000\n",
       "max         10.000000\n",
       "Name: minplayers, dtype: float64"
      ]
     },
     "execution_count": 16,
     "metadata": {},
     "output_type": "execute_result"
    }
   ],
   "source": [
    "ready_data.minplayers.describe()"
   ]
  },
  {
   "cell_type": "code",
   "execution_count": 17,
   "metadata": {},
   "outputs": [
    {
     "data": {
      "text/plain": [
       "minplayers\n",
       "2     14834\n",
       "1      3675\n",
       "3      2462\n",
       "4       503\n",
       "5        59\n",
       "0        44\n",
       "6        24\n",
       "8        16\n",
       "7        11\n",
       "10        2\n",
       "Name: count, dtype: int64"
      ]
     },
     "execution_count": 17,
     "metadata": {},
     "output_type": "execute_result"
    }
   ],
   "source": [
    "ready_data.minplayers.value_counts().head(10)"
   ]
  },
  {
   "cell_type": "code",
   "execution_count": 18,
   "metadata": {},
   "outputs": [
    {
     "data": {
      "text/plain": [
       "count    21631.000000\n",
       "mean         5.709491\n",
       "std         15.102385\n",
       "min          0.000000\n",
       "25%          4.000000\n",
       "50%          4.000000\n",
       "75%          6.000000\n",
       "max        999.000000\n",
       "Name: maxplayers, dtype: float64"
      ]
     },
     "execution_count": 18,
     "metadata": {},
     "output_type": "execute_result"
    }
   ],
   "source": [
    "ready_data.maxplayers.describe()"
   ]
  },
  {
   "cell_type": "code",
   "execution_count": 19,
   "metadata": {},
   "outputs": [
    {
     "data": {
      "text/plain": [
       "maxplayers\n",
       "4     6810\n",
       "2     4287\n",
       "6     3969\n",
       "5     2987\n",
       "8     1218\n",
       "10     413\n",
       "1      369\n",
       "7      324\n",
       "3      279\n",
       "12     248\n",
       "Name: count, dtype: int64"
      ]
     },
     "execution_count": 19,
     "metadata": {},
     "output_type": "execute_result"
    }
   ],
   "source": [
    "ready_data.maxplayers.value_counts().head(10)"
   ]
  },
  {
   "cell_type": "code",
   "execution_count": 20,
   "metadata": {},
   "outputs": [
    {
     "data": {
      "text/plain": [
       "count    21631.000000\n",
       "mean         3.702464\n",
       "std         15.063117\n",
       "min         -4.000000\n",
       "25%          2.000000\n",
       "50%          2.000000\n",
       "75%          4.000000\n",
       "max        997.000000\n",
       "dtype: float64"
      ]
     },
     "execution_count": 20,
     "metadata": {},
     "output_type": "execute_result"
    }
   ],
   "source": [
    "players_range = ready_data.maxplayers - ready_data.minplayers\n",
    "players_range.describe()"
   ]
  },
  {
   "cell_type": "markdown",
   "metadata": {},
   "source": [
    "We can see that most games have a minimum player number of 2, while the number of maximum players commonly range from 2 to 8, with 4 being the most. There are some peculiar values, including 0 for `minplayers` and `maxplayers`, which may indicate data missing; 999 for `maxplayers`, which may or maynot be an error but is interesting (as if the game designer doesn't really set a upper limit); entries with `maxplayers` smaller than `minplayers`, which probably indicates faulty data."
   ]
  },
  {
   "cell_type": "markdown",
   "metadata": {},
   "source": [
    "#### Playing time"
   ]
  },
  {
   "cell_type": "code",
   "execution_count": 21,
   "metadata": {},
   "outputs": [
    {
     "data": {
      "text/plain": [
       "count    21631.000000\n",
       "mean        90.509177\n",
       "std        534.826511\n",
       "min          0.000000\n",
       "25%         25.000000\n",
       "50%         45.000000\n",
       "75%         90.000000\n",
       "max      60000.000000\n",
       "Name: playingtime, dtype: float64"
      ]
     },
     "execution_count": 21,
     "metadata": {},
     "output_type": "execute_result"
    }
   ],
   "source": [
    "ready_data.playingtime.describe()"
   ]
  },
  {
   "cell_type": "code",
   "execution_count": 22,
   "metadata": {},
   "outputs": [
    {
     "data": {
      "text/plain": [
       "playingtime\n",
       "30     3804\n",
       "60     3169\n",
       "45     2182\n",
       "20     2134\n",
       "120    1704\n",
       "90     1687\n",
       "15     1292\n",
       "180     837\n",
       "10      796\n",
       "0       774\n",
       "Name: count, dtype: int64"
      ]
     },
     "execution_count": 22,
     "metadata": {},
     "output_type": "execute_result"
    }
   ],
   "source": [
    "ready_data.playingtime.value_counts().head(10)"
   ]
  },
  {
   "cell_type": "code",
   "execution_count": 23,
   "metadata": {},
   "outputs": [
    {
     "data": {
      "text/plain": [
       "count    21631.000000\n",
       "mean        63.647774\n",
       "std        447.213702\n",
       "min          0.000000\n",
       "25%         20.000000\n",
       "50%         30.000000\n",
       "75%         60.000000\n",
       "max      60000.000000\n",
       "Name: minplaytime, dtype: float64"
      ]
     },
     "execution_count": 23,
     "metadata": {},
     "output_type": "execute_result"
    }
   ],
   "source": [
    "ready_data.minplaytime.describe()"
   ]
  },
  {
   "cell_type": "code",
   "execution_count": 24,
   "metadata": {},
   "outputs": [
    {
     "data": {
      "text/plain": [
       "minplaytime\n",
       "30     4417\n",
       "60     2991\n",
       "20     2654\n",
       "45     2166\n",
       "15     1893\n",
       "120    1292\n",
       "10     1262\n",
       "90     1206\n",
       "180     669\n",
       "0       642\n",
       "Name: count, dtype: int64"
      ]
     },
     "execution_count": 24,
     "metadata": {},
     "output_type": "execute_result"
    }
   ],
   "source": [
    "ready_data.minplaytime.value_counts().head(10)"
   ]
  },
  {
   "cell_type": "code",
   "execution_count": 25,
   "metadata": {},
   "outputs": [
    {
     "data": {
      "text/plain": [
       "count    21631.000000\n",
       "mean        90.509177\n",
       "std        534.826511\n",
       "min          0.000000\n",
       "25%         25.000000\n",
       "50%         45.000000\n",
       "75%         90.000000\n",
       "max      60000.000000\n",
       "Name: maxplaytime, dtype: float64"
      ]
     },
     "execution_count": 25,
     "metadata": {},
     "output_type": "execute_result"
    }
   ],
   "source": [
    "ready_data.maxplaytime.describe()"
   ]
  },
  {
   "cell_type": "code",
   "execution_count": 26,
   "metadata": {},
   "outputs": [
    {
     "data": {
      "text/plain": [
       "count    21631.000000\n",
       "mean        26.861403\n",
       "std        276.221914\n",
       "min       -450.000000\n",
       "25%          0.000000\n",
       "50%          0.000000\n",
       "75%         15.000000\n",
       "max      21060.000000\n",
       "dtype: float64"
      ]
     },
     "execution_count": 26,
     "metadata": {},
     "output_type": "execute_result"
    }
   ],
   "source": [
    "playtime_range = ready_data.maxplaytime - ready_data.minplaytime\n",
    "playtime_range.describe()"
   ]
  },
  {
   "cell_type": "code",
   "execution_count": 27,
   "metadata": {},
   "outputs": [
    {
     "data": {
      "text/plain": [
       "9553    This is a wargame like no other.  While the map area (5 full size maps) has been repeated in other North Africa games, the game is detailed to a degree no other game has come close to.  If using the full rules you keep track of every individual plane and pilot in the three year campaign. Each counter on the board representing a ground unit is composed of many units which are kept track of on logs.  Supplies are kept track of and dispersed in a very detailed manner.&#10;&#10;From the rulebook we read how to run a game. &quot;CNA is a logistically-oriented game, and its play requires not only a lot of attention to logistics, but, if you will, a logistically sound methodology.&quot; It is suggested that you have 5 persons per side with the following duties.&#10;&#10;Commander-in-Chief: responsible for strategic decisions and to settle intra-team disputes.&#10;&#10;Logistics Commander: In charge of all supplies.  Accepts supply requisitions from the others and keeps all informed of supply shortages. Is in charge of supply dumps, Third line trucks and some second line trucks and is in charge of Naval convoys.&#10;&#10;Rear Area Commander: Gets the supplies to the front. In charge of security, reserves, prisoners and construction.&#10;&#10;Air Commander: In charge of all planes and pilots.  Is responsible for planning air missions and deployment of air bases.&#10;&#10;Front-line Commander: Executes all attacks and troop movements in the front line.  Helps with coordinating defensive efforts.&#10;&#10;Playing time with 10 players is listed at 1200 hours.&#10;&#10;\n",
       "Name: description, dtype: object"
      ]
     },
     "execution_count": 27,
     "metadata": {},
     "output_type": "execute_result"
    }
   ],
   "source": [
    "ready_data[ready_data.playingtime == 60000].description"
   ]
  },
  {
   "cell_type": "markdown",
   "metadata": {},
   "source": [
    "Firstly, we notice that the distribution of `playingtime` is identical to that of `maxplaytime`, so they are actually the same field of data. We find that the playing time of most games range within 10-180 minutes. The median of `minplaytime` is 30 minutes, and that of `maxplaytime` is 45 minutes. Over half of the games have the same listed `minplaytime` and `maxplaytime`. Similar with player numbers, there are some peculiar data, including a 0 for `maxplaytime` (probably missing data), very large `maxplaytime` (from the description it is indeed an extremely complicated game), and `maxplaytime` smaller than `minplaytime` (probably faulty data)."
   ]
  },
  {
   "cell_type": "markdown",
   "metadata": {},
   "source": [
    "### Categorical factors of games"
   ]
  },
  {
   "cell_type": "code",
   "execution_count": 28,
   "metadata": {},
   "outputs": [],
   "source": [
    "def string_to_list(string, default=None):\n",
    "    \"\"\"\n",
    "    Converts a string representation of a list to a list.\n",
    "    string: a string with a list representation, e.g. \"[1, 2, 3]\"\n",
    "    default: the default value to return if the string is null\n",
    "    \"\"\"\n",
    "    # if the string is null, return an empty list\n",
    "    if pd.isnull(string):\n",
    "        if default is not None:\n",
    "            return [default]\n",
    "        return []\n",
    "    return eval(string)"
   ]
  },
  {
   "cell_type": "code",
   "execution_count": 29,
   "metadata": {},
   "outputs": [],
   "source": [
    "ready_data.category_list = ready_data.category_list.apply(string_to_list)\n",
    "ready_data.mechanic_list = ready_data.mechanic_list.apply(string_to_list)\n",
    "ready_data.publisher_list = ready_data.publisher_list.apply(string_to_list, default='Unknown')\n",
    "ready_data.designer_list = ready_data.designer_list.apply(string_to_list, default='(Uncredited)')"
   ]
  },
  {
   "cell_type": "markdown",
   "metadata": {},
   "source": [
    "#### Game category"
   ]
  },
  {
   "cell_type": "code",
   "execution_count": 30,
   "metadata": {},
   "outputs": [
    {
     "data": {
      "text/plain": [
       "count      84.000000\n",
       "mean      674.190476\n",
       "std       901.588698\n",
       "min         1.000000\n",
       "25%       195.500000\n",
       "50%       356.000000\n",
       "75%       783.250000\n",
       "max      6402.000000\n",
       "Name: count, dtype: float64"
      ]
     },
     "execution_count": 30,
     "metadata": {},
     "output_type": "execute_result"
    }
   ],
   "source": [
    "ready_data.category_list.explode().value_counts().describe()"
   ]
  },
  {
   "cell_type": "code",
   "execution_count": 31,
   "metadata": {},
   "outputs": [
    {
     "data": {
      "text/plain": [
       "category_list\n",
       "Card Game            6402\n",
       "Wargame              3820\n",
       "Fantasy              2681\n",
       "Party Game           1968\n",
       "Dice                 1847\n",
       "Science Fiction      1666\n",
       "Fighting             1658\n",
       "Children's Game      1635\n",
       "Abstract Strategy    1545\n",
       "Economic             1503\n",
       "Name: count, dtype: int64"
      ]
     },
     "execution_count": 31,
     "metadata": {},
     "output_type": "execute_result"
    }
   ],
   "source": [
    "ready_data.category_list.explode().value_counts().head(10)"
   ]
  },
  {
   "cell_type": "code",
   "execution_count": 32,
   "metadata": {},
   "outputs": [
    {
     "data": {
      "text/plain": [
       "count    21631.000000\n",
       "mean         2.618094\n",
       "std          1.380869\n",
       "min          0.000000\n",
       "25%          2.000000\n",
       "50%          2.000000\n",
       "75%          3.000000\n",
       "max         14.000000\n",
       "Name: category_count, dtype: float64"
      ]
     },
     "execution_count": 32,
     "metadata": {},
     "output_type": "execute_result"
    }
   ],
   "source": [
    "ready_data.category_count.describe()"
   ]
  },
  {
   "cell_type": "markdown",
   "metadata": {},
   "source": [
    "We can find that there are 84 unique game categories, the most common category is 'Card Game', and on average a game is afiliated with 2.62 categories."
   ]
  },
  {
   "cell_type": "markdown",
   "metadata": {},
   "source": [
    "#### Game mechanics"
   ]
  },
  {
   "cell_type": "code",
   "execution_count": 33,
   "metadata": {},
   "outputs": [
    {
     "data": {
      "text/plain": [
       "count     182.00000\n",
       "mean      345.60989\n",
       "std       742.08696\n",
       "min         1.00000\n",
       "25%        25.25000\n",
       "50%        52.00000\n",
       "75%       301.00000\n",
       "max      6112.00000\n",
       "Name: count, dtype: float64"
      ]
     },
     "execution_count": 33,
     "metadata": {},
     "output_type": "execute_result"
    }
   ],
   "source": [
    "ready_data.mechanic_list.explode().value_counts().describe()"
   ]
  },
  {
   "cell_type": "code",
   "execution_count": 34,
   "metadata": {},
   "outputs": [
    {
     "data": {
      "text/plain": [
       "mechanic_list\n",
       "Dice Rolling              6112\n",
       "Hand Management           4421\n",
       "Set Collection            2936\n",
       "Variable Player Powers    2719\n",
       "Hexagon Grid              2371\n",
       "Simulation                2099\n",
       "Card Drafting             1869\n",
       "Tile Placement            1805\n",
       "Modular Board             1697\n",
       "Grid Movement             1635\n",
       "Name: count, dtype: int64"
      ]
     },
     "execution_count": 34,
     "metadata": {},
     "output_type": "execute_result"
    }
   ],
   "source": [
    "ready_data.mechanic_list.explode().value_counts().head(10)"
   ]
  },
  {
   "cell_type": "code",
   "execution_count": 35,
   "metadata": {},
   "outputs": [
    {
     "data": {
      "text/plain": [
       "count    21631.000000\n",
       "mean         2.907910\n",
       "std          2.189651\n",
       "min          0.000000\n",
       "25%          1.000000\n",
       "50%          2.000000\n",
       "75%          4.000000\n",
       "max         20.000000\n",
       "Name: mechanic_count, dtype: float64"
      ]
     },
     "execution_count": 35,
     "metadata": {},
     "output_type": "execute_result"
    }
   ],
   "source": [
    "ready_data.mechanic_count.describe()"
   ]
  },
  {
   "cell_type": "markdown",
   "metadata": {},
   "source": [
    "There are 182 unique game mechanics, the most common mechanics is 'Dice Rolling', and on average a game has 2.91 mechanics."
   ]
  },
  {
   "cell_type": "markdown",
   "metadata": {},
   "source": [
    "#### Game publishers"
   ]
  },
  {
   "cell_type": "code",
   "execution_count": 36,
   "metadata": {},
   "outputs": [
    {
     "data": {
      "text/plain": [
       "count    7068.000000\n",
       "mean        8.268251\n",
       "std        32.347544\n",
       "min         1.000000\n",
       "25%         1.000000\n",
       "50%         1.000000\n",
       "75%         4.000000\n",
       "max       597.000000\n",
       "Name: count, dtype: float64"
      ]
     },
     "execution_count": 36,
     "metadata": {},
     "output_type": "execute_result"
    }
   ],
   "source": [
    "ready_data.publisher_list.explode().value_counts().describe()"
   ]
  },
  {
   "cell_type": "code",
   "execution_count": 37,
   "metadata": {},
   "outputs": [
    {
     "data": {
      "text/plain": [
       "publisher_list\n",
       "Hasbro                        597\n",
       "(Self-Published)              594\n",
       "Asmodee                       571\n",
       "Ravensburger                  520\n",
       "Parker Brothers               486\n",
       "(Web published)               485\n",
       "Pegasus Spiele                480\n",
       "999 Games                     477\n",
       "Korea Boardgames Co., Ltd.    474\n",
       "KOSMOS                        429\n",
       "Name: count, dtype: int64"
      ]
     },
     "execution_count": 37,
     "metadata": {},
     "output_type": "execute_result"
    }
   ],
   "source": [
    "ready_data.publisher_list.explode().value_counts().head(10)"
   ]
  },
  {
   "cell_type": "code",
   "execution_count": 38,
   "metadata": {},
   "outputs": [
    {
     "data": {
      "text/plain": [
       "count    21631.000000\n",
       "mean         2.701678\n",
       "std          5.448527\n",
       "min          1.000000\n",
       "25%          1.000000\n",
       "50%          1.000000\n",
       "75%          3.000000\n",
       "max        207.000000\n",
       "Name: publisher_count, dtype: float64"
      ]
     },
     "execution_count": 38,
     "metadata": {},
     "output_type": "execute_result"
    }
   ],
   "source": [
    "ready_data.publisher_count.describe()"
   ]
  },
  {
   "cell_type": "markdown",
   "metadata": {},
   "source": [
    "There are 7068 unique publishers. The publisher with the most published games is 'Hasbro'. On average a publisher published 8.27 games [without excluding categories like '(Self-Published)' or '(Web-Published)'], but over half of publishers just have 1 game recorded. On average a game is published by 2.70 publishers."
   ]
  },
  {
   "cell_type": "markdown",
   "metadata": {},
   "source": [
    "#### Game designers "
   ]
  },
  {
   "cell_type": "code",
   "execution_count": 39,
   "metadata": {},
   "outputs": [
    {
     "data": {
      "text/plain": [
       "count    9796.000000\n",
       "mean        3.019600\n",
       "std        21.663193\n",
       "min         1.000000\n",
       "25%         1.000000\n",
       "50%         1.000000\n",
       "75%         2.000000\n",
       "max      2041.000000\n",
       "Name: count, dtype: float64"
      ]
     },
     "execution_count": 39,
     "metadata": {},
     "output_type": "execute_result"
    }
   ],
   "source": [
    "ready_data.designer_list.explode().value_counts().describe()"
   ]
  },
  {
   "cell_type": "code",
   "execution_count": 40,
   "metadata": {},
   "outputs": [
    {
     "data": {
      "text/plain": [
       "designer_list\n",
       "(Uncredited)       2041\n",
       "Reiner Knizia       329\n",
       "Joseph Miranda      134\n",
       "Wolfgang Kramer     133\n",
       "Richard H. Berg     111\n",
       "Bruno Cathala        95\n",
       "Martin Wallace       92\n",
       "Jim Dunnigan         92\n",
       "James Ernest         91\n",
       "Dean Essig           86\n",
       "Name: count, dtype: int64"
      ]
     },
     "execution_count": 40,
     "metadata": {},
     "output_type": "execute_result"
    }
   ],
   "source": [
    "ready_data.designer_list.explode().value_counts().head(10)"
   ]
  },
  {
   "cell_type": "code",
   "execution_count": 41,
   "metadata": {},
   "outputs": [
    {
     "data": {
      "text/plain": [
       "count    21631.000000\n",
       "mean         1.367482\n",
       "std          0.768842\n",
       "min          1.000000\n",
       "25%          1.000000\n",
       "50%          1.000000\n",
       "75%          2.000000\n",
       "max         21.000000\n",
       "Name: designer_count, dtype: float64"
      ]
     },
     "execution_count": 41,
     "metadata": {},
     "output_type": "execute_result"
    }
   ],
   "source": [
    "ready_data.designer_count.describe()"
   ]
  },
  {
   "cell_type": "markdown",
   "metadata": {},
   "source": [
    "There are 9796 unique designers. The designer with the most designed games, excluding '(Uncredited)', is 'Reiner Knizia'. On average a designer designed 3.02 games [without excluding '(Uncredited)']. On average, a game has 1.37 designers."
   ]
  },
  {
   "cell_type": "code",
   "execution_count": 42,
   "metadata": {},
   "outputs": [],
   "source": [
    "pd.reset_option('display.max_colwidth')"
   ]
  },
  {
   "cell_type": "markdown",
   "metadata": {},
   "source": [
    "## Inferential Statistics"
   ]
  },
  {
   "cell_type": "markdown",
   "metadata": {},
   "source": [
    "对于不同年份，category，公司，family，ANOVA test一下平均分的不同；\n",
    "\n",
    "可以只选几个最多的类别\n",
    "\n",
    "对于不互斥的类别，是否test会有问题"
   ]
  },
  {
   "cell_type": "markdown",
   "metadata": {},
   "source": [
    "把numerical features里面corr最高的几组3列出来"
   ]
  },
  {
   "cell_type": "markdown",
   "metadata": {},
   "source": [
    "## Graphical Analysis"
   ]
  },
  {
   "cell_type": "markdown",
   "metadata": {},
   "source": [
    "把第一次改一改\n",
    "\n",
    "画一个5x5的pariplot\n",
    "\n",
    "自由发挥。。。"
   ]
  },
  {
   "cell_type": "markdown",
   "metadata": {},
   "source": [
    "## Comparative Analysis"
   ]
  },
  {
   "cell_type": "markdown",
   "metadata": {},
   "source": [
    "histogram / scatterplot, hue=\"???\"\n",
    "\n",
    "??? 可以是 age， year，player_num"
   ]
  },
  {
   "cell_type": "markdown",
   "metadata": {},
   "source": [
    "## Multivariate Analysis"
   ]
  },
  {
   "cell_type": "markdown",
   "metadata": {},
   "source": [
    "画pivot table，cross tabulation\n",
    "\n",
    "也是按照age,year,player_num\n",
    "\n",
    "或者 card game, non-card game"
   ]
  },
  {
   "cell_type": "markdown",
   "metadata": {},
   "source": [
    "## Reference"
   ]
  }
 ],
 "metadata": {
  "kernelspec": {
   "display_name": ".venv",
   "language": "python",
   "name": "python3"
  },
  "language_info": {
   "codemirror_mode": {
    "name": "ipython",
    "version": 3
   },
   "file_extension": ".py",
   "mimetype": "text/x-python",
   "name": "python",
   "nbconvert_exporter": "python",
   "pygments_lexer": "ipython3",
   "version": "3.10.12"
  }
 },
 "nbformat": 4,
 "nbformat_minor": 2
}
