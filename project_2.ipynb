{
 "cells": [
  {
   "cell_type": "markdown",
   "metadata": {},
   "source": [
    "# SI618 Project 2: Analysis"
   ]
  },
  {
   "cell_type": "markdown",
   "metadata": {},
   "source": [
    "# Project Title — *World of Board Games: What decide their popularity and ratings?*"
   ]
  },
  {
   "cell_type": "markdown",
   "metadata": {},
   "source": [
    "## Team Members\n",
    "- Keqing Lu (keqinglu)\n",
    "- Xiyuan Wang (denniswx)\n",
    "- Fangqing Yuan (fangqing)"
   ]
  },
  {
   "cell_type": "code",
   "execution_count": 1,
   "metadata": {},
   "outputs": [],
   "source": [
    "# import necessary libraries\n",
    "import pandas as pd\n",
    "import numpy as np\n",
    "import matplotlib.pyplot as plt\n",
    "import seaborn as sns"
   ]
  },
  {
   "cell_type": "code",
   "execution_count": 5,
   "metadata": {},
   "outputs": [],
   "source": [
    "# import processed data from project 1\n",
    "ready_data = pd.read_csv('board_games.csv')"
   ]
  },
  {
   "cell_type": "code",
   "execution_count": 6,
   "metadata": {},
   "outputs": [
    {
     "data": {
      "text/html": [
       "<div>\n",
       "<style scoped>\n",
       "    .dataframe tbody tr th:only-of-type {\n",
       "        vertical-align: middle;\n",
       "    }\n",
       "\n",
       "    .dataframe tbody tr th {\n",
       "        vertical-align: top;\n",
       "    }\n",
       "\n",
       "    .dataframe thead th {\n",
       "        text-align: right;\n",
       "    }\n",
       "</style>\n",
       "<table border=\"1\" class=\"dataframe\">\n",
       "  <thead>\n",
       "    <tr style=\"text-align: right;\">\n",
       "      <th></th>\n",
       "      <th>num_x</th>\n",
       "      <th>id</th>\n",
       "      <th>name</th>\n",
       "      <th>year</th>\n",
       "      <th>rank</th>\n",
       "      <th>average</th>\n",
       "      <th>bayes_average</th>\n",
       "      <th>users_rated</th>\n",
       "      <th>url</th>\n",
       "      <th>thumbnail</th>\n",
       "      <th>...</th>\n",
       "      <th>designer_list</th>\n",
       "      <th>publisher_list</th>\n",
       "      <th>category_count</th>\n",
       "      <th>family_count</th>\n",
       "      <th>mechanic_count</th>\n",
       "      <th>expansion_count</th>\n",
       "      <th>implementation_count</th>\n",
       "      <th>designer_count</th>\n",
       "      <th>publisher_count</th>\n",
       "      <th>artist_count</th>\n",
       "    </tr>\n",
       "  </thead>\n",
       "  <tbody>\n",
       "    <tr>\n",
       "      <th>0</th>\n",
       "      <td>105</td>\n",
       "      <td>30549</td>\n",
       "      <td>Pandemic</td>\n",
       "      <td>2008</td>\n",
       "      <td>106</td>\n",
       "      <td>7.59</td>\n",
       "      <td>7.487</td>\n",
       "      <td>108975</td>\n",
       "      <td>/boardgame/30549/pandemic</td>\n",
       "      <td>https://cf.geekdo-images.com/S3ybV1LAp-8SnHIXL...</td>\n",
       "      <td>...</td>\n",
       "      <td>['Matt Leacock']</td>\n",
       "      <td>['Z-Man Games', 'Albi', 'Asmodee', 'Asmodee It...</td>\n",
       "      <td>1</td>\n",
       "      <td>9</td>\n",
       "      <td>7</td>\n",
       "      <td>7</td>\n",
       "      <td>11</td>\n",
       "      <td>1</td>\n",
       "      <td>33</td>\n",
       "      <td>5</td>\n",
       "    </tr>\n",
       "    <tr>\n",
       "      <th>1</th>\n",
       "      <td>189</td>\n",
       "      <td>822</td>\n",
       "      <td>Carcassonne</td>\n",
       "      <td>2000</td>\n",
       "      <td>190</td>\n",
       "      <td>7.42</td>\n",
       "      <td>7.309</td>\n",
       "      <td>108738</td>\n",
       "      <td>/boardgame/822/carcassonne</td>\n",
       "      <td>https://cf.geekdo-images.com/okM0dq_bEXnbyQTOv...</td>\n",
       "      <td>...</td>\n",
       "      <td>['Klaus-Jürgen Wrede']</td>\n",
       "      <td>['Hans im Glück', '999 Games', 'Albi', 'Bard C...</td>\n",
       "      <td>3</td>\n",
       "      <td>11</td>\n",
       "      <td>3</td>\n",
       "      <td>155</td>\n",
       "      <td>17</td>\n",
       "      <td>1</td>\n",
       "      <td>35</td>\n",
       "      <td>4</td>\n",
       "    </tr>\n",
       "    <tr>\n",
       "      <th>2</th>\n",
       "      <td>428</td>\n",
       "      <td>13</td>\n",
       "      <td>Catan</td>\n",
       "      <td>1995</td>\n",
       "      <td>429</td>\n",
       "      <td>7.14</td>\n",
       "      <td>6.970</td>\n",
       "      <td>108024</td>\n",
       "      <td>/boardgame/13/catan</td>\n",
       "      <td>https://cf.geekdo-images.com/W3Bsga_uLP9kO91gZ...</td>\n",
       "      <td>...</td>\n",
       "      <td>['Klaus Teuber']</td>\n",
       "      <td>['KOSMOS', '999 Games', 'Albi', 'Asmodee', 'As...</td>\n",
       "      <td>2</td>\n",
       "      <td>5</td>\n",
       "      <td>9</td>\n",
       "      <td>87</td>\n",
       "      <td>29</td>\n",
       "      <td>1</td>\n",
       "      <td>48</td>\n",
       "      <td>11</td>\n",
       "    </tr>\n",
       "    <tr>\n",
       "      <th>3</th>\n",
       "      <td>72</td>\n",
       "      <td>68448</td>\n",
       "      <td>7 Wonders</td>\n",
       "      <td>2010</td>\n",
       "      <td>73</td>\n",
       "      <td>7.74</td>\n",
       "      <td>7.634</td>\n",
       "      <td>89982</td>\n",
       "      <td>/boardgame/68448/7-wonders</td>\n",
       "      <td>https://cf.geekdo-images.com/RvFVTEpnbb4NM7k0I...</td>\n",
       "      <td>...</td>\n",
       "      <td>['Antoine Bauza']</td>\n",
       "      <td>['Repos Production', 'ADC Blackfire Entertainm...</td>\n",
       "      <td>5</td>\n",
       "      <td>7</td>\n",
       "      <td>5</td>\n",
       "      <td>16</td>\n",
       "      <td>3</td>\n",
       "      <td>1</td>\n",
       "      <td>14</td>\n",
       "      <td>4</td>\n",
       "    </tr>\n",
       "    <tr>\n",
       "      <th>4</th>\n",
       "      <td>103</td>\n",
       "      <td>36218</td>\n",
       "      <td>Dominion</td>\n",
       "      <td>2008</td>\n",
       "      <td>104</td>\n",
       "      <td>7.61</td>\n",
       "      <td>7.499</td>\n",
       "      <td>81561</td>\n",
       "      <td>/boardgame/36218/dominion</td>\n",
       "      <td>https://cf.geekdo-images.com/j6iQpZ4XkemZP07HN...</td>\n",
       "      <td>...</td>\n",
       "      <td>['Donald X. Vaccarino']</td>\n",
       "      <td>['Rio Grande Games', '999 Games', 'Albi', 'Bar...</td>\n",
       "      <td>2</td>\n",
       "      <td>3</td>\n",
       "      <td>5</td>\n",
       "      <td>46</td>\n",
       "      <td>2</td>\n",
       "      <td>1</td>\n",
       "      <td>23</td>\n",
       "      <td>9</td>\n",
       "    </tr>\n",
       "  </tbody>\n",
       "</table>\n",
       "<p>5 rows × 40 columns</p>\n",
       "</div>"
      ],
      "text/plain": [
       "   num_x     id         name  year  rank  average  bayes_average  users_rated  \\\n",
       "0    105  30549     Pandemic  2008   106     7.59          7.487       108975   \n",
       "1    189    822  Carcassonne  2000   190     7.42          7.309       108738   \n",
       "2    428     13        Catan  1995   429     7.14          6.970       108024   \n",
       "3     72  68448    7 Wonders  2010    73     7.74          7.634        89982   \n",
       "4    103  36218     Dominion  2008   104     7.61          7.499        81561   \n",
       "\n",
       "                          url  \\\n",
       "0   /boardgame/30549/pandemic   \n",
       "1  /boardgame/822/carcassonne   \n",
       "2         /boardgame/13/catan   \n",
       "3  /boardgame/68448/7-wonders   \n",
       "4   /boardgame/36218/dominion   \n",
       "\n",
       "                                           thumbnail  ...  \\\n",
       "0  https://cf.geekdo-images.com/S3ybV1LAp-8SnHIXL...  ...   \n",
       "1  https://cf.geekdo-images.com/okM0dq_bEXnbyQTOv...  ...   \n",
       "2  https://cf.geekdo-images.com/W3Bsga_uLP9kO91gZ...  ...   \n",
       "3  https://cf.geekdo-images.com/RvFVTEpnbb4NM7k0I...  ...   \n",
       "4  https://cf.geekdo-images.com/j6iQpZ4XkemZP07HN...  ...   \n",
       "\n",
       "             designer_list                                     publisher_list  \\\n",
       "0         ['Matt Leacock']  ['Z-Man Games', 'Albi', 'Asmodee', 'Asmodee It...   \n",
       "1   ['Klaus-Jürgen Wrede']  ['Hans im Glück', '999 Games', 'Albi', 'Bard C...   \n",
       "2         ['Klaus Teuber']  ['KOSMOS', '999 Games', 'Albi', 'Asmodee', 'As...   \n",
       "3        ['Antoine Bauza']  ['Repos Production', 'ADC Blackfire Entertainm...   \n",
       "4  ['Donald X. Vaccarino']  ['Rio Grande Games', '999 Games', 'Albi', 'Bar...   \n",
       "\n",
       "  category_count  family_count  mechanic_count  expansion_count  \\\n",
       "0              1             9               7                7   \n",
       "1              3            11               3              155   \n",
       "2              2             5               9               87   \n",
       "3              5             7               5               16   \n",
       "4              2             3               5               46   \n",
       "\n",
       "   implementation_count  designer_count  publisher_count  artist_count  \n",
       "0                    11               1               33             5  \n",
       "1                    17               1               35             4  \n",
       "2                    29               1               48            11  \n",
       "3                     3               1               14             4  \n",
       "4                     2               1               23             9  \n",
       "\n",
       "[5 rows x 40 columns]"
      ]
     },
     "execution_count": 6,
     "metadata": {},
     "output_type": "execute_result"
    }
   ],
   "source": [
    "ready_data.head() # check the first few rows of the data"
   ]
  },
  {
   "cell_type": "markdown",
   "metadata": {},
   "source": [
    "## Descriptive Statistics"
   ]
  },
  {
   "cell_type": "markdown",
   "metadata": {},
   "source": [
    "## Inferential Statistics"
   ]
  },
  {
   "cell_type": "markdown",
   "metadata": {},
   "source": [
    "## Graphical Analysis"
   ]
  },
  {
   "cell_type": "markdown",
   "metadata": {},
   "source": [
    "## Comparative Analysis"
   ]
  },
  {
   "cell_type": "markdown",
   "metadata": {},
   "source": [
    "## Multivariate Analysis"
   ]
  }
 ],
 "metadata": {
  "kernelspec": {
   "display_name": ".venv",
   "language": "python",
   "name": "python3"
  },
  "language_info": {
   "codemirror_mode": {
    "name": "ipython",
    "version": 3
   },
   "file_extension": ".py",
   "mimetype": "text/x-python",
   "name": "python",
   "nbconvert_exporter": "python",
   "pygments_lexer": "ipython3",
   "version": "3.12.1"
  }
 },
 "nbformat": 4,
 "nbformat_minor": 2
}
